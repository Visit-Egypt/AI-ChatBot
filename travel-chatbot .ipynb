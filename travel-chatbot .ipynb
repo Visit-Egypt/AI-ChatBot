{
 "cells": [
  {
   "cell_type": "markdown",
   "id": "4f7bfa27",
   "metadata": {
    "papermill": {
     "duration": 0.030126,
     "end_time": "2022-03-17T16:35:42.989772",
     "exception": false,
     "start_time": "2022-03-17T16:35:42.959646",
     "status": "completed"
    },
    "tags": []
   },
   "source": [
    "## Import Libraries"
   ]
  },
  {
   "cell_type": "code",
   "execution_count": 1,
   "id": "52fc5a08",
   "metadata": {
    "execution": {
     "iopub.execute_input": "2022-03-17T16:35:43.056058Z",
     "iopub.status.busy": "2022-03-17T16:35:43.055328Z",
     "iopub.status.idle": "2022-03-17T16:35:55.302481Z",
     "shell.execute_reply": "2022-03-17T16:35:55.301632Z",
     "shell.execute_reply.started": "2022-03-17T14:25:48.614426Z"
    },
    "papermill": {
     "duration": 12.286188,
     "end_time": "2022-03-17T16:35:55.302668",
     "exception": false,
     "start_time": "2022-03-17T16:35:43.016480",
     "status": "completed"
    },
    "tags": []
   },
   "outputs": [],
   "source": [
    "#import libraries\n",
    "import nltk\n",
    "import numpy as np\n",
    "import tensorflow as tf\n",
    "import random\n",
    "import keras\n",
    "import spacy \n",
    "from keras.models import Sequential\n",
    "from keras.layers import Dense, Activation, Dropout\n",
    "from nltk.stem.lancaster import LancasterStemmer\n",
    "import json\n",
    "from datetime import datetime,date\n"
   ]
  },
  {
   "cell_type": "markdown",
   "id": "9d504c1d",
   "metadata": {
    "papermill": {
     "duration": 0.025482,
     "end_time": "2022-03-17T16:35:55.354424",
     "exception": false,
     "start_time": "2022-03-17T16:35:55.328942",
     "status": "completed"
    },
    "tags": []
   },
   "source": [
    "## Read the data"
   ]
  },
  {
   "cell_type": "code",
   "execution_count": 2,
   "id": "1a698ebb",
   "metadata": {
    "execution": {
     "iopub.execute_input": "2022-03-17T16:35:55.412296Z",
     "iopub.status.busy": "2022-03-17T16:35:55.411480Z",
     "iopub.status.idle": "2022-03-17T16:35:55.624862Z",
     "shell.execute_reply": "2022-03-17T16:35:55.625416Z",
     "shell.execute_reply.started": "2022-03-17T14:25:59.610946Z"
    },
    "papermill": {
     "duration": 0.245618,
     "end_time": "2022-03-17T16:35:55.625609",
     "exception": false,
     "start_time": "2022-03-17T16:35:55.379991",
     "status": "completed"
    },
    "tags": []
   },
   "outputs": [
    {
     "name": "stdout",
     "output_type": "stream",
     "text": [
      "[nltk_data] Downloading package punkt to /usr/share/nltk_data...\n",
      "[nltk_data]   Package punkt is already up-to-date!\n"
     ]
    }
   ],
   "source": [
    "nltk.download('punkt')\n",
    "stemmer =  LancasterStemmer()\n"
   ]
  },
  {
   "cell_type": "code",
   "execution_count": 3,
   "id": "2b7b62f2",
   "metadata": {
    "execution": {
     "iopub.execute_input": "2022-03-17T16:35:55.681077Z",
     "iopub.status.busy": "2022-03-17T16:35:55.680117Z",
     "iopub.status.idle": "2022-03-17T16:35:55.691322Z",
     "shell.execute_reply": "2022-03-17T16:35:55.691869Z",
     "shell.execute_reply.started": "2022-03-17T14:25:59.791258Z"
    },
    "papermill": {
     "duration": 0.040007,
     "end_time": "2022-03-17T16:35:55.692084",
     "exception": false,
     "start_time": "2022-03-17T16:35:55.652077",
     "status": "completed"
    },
    "tags": []
   },
   "outputs": [],
   "source": [
    "\n",
    "with open('../input/datajson/data.json') as file:\n",
    "    data = json.load(file)"
   ]
  },
  {
   "cell_type": "markdown",
   "id": "a92c9ce5",
   "metadata": {
    "papermill": {
     "duration": 0.025605,
     "end_time": "2022-03-17T16:35:55.744726",
     "exception": false,
     "start_time": "2022-03-17T16:35:55.719121",
     "status": "completed"
    },
    "tags": []
   },
   "source": [
    "## processing on Data"
   ]
  },
  {
   "cell_type": "code",
   "execution_count": 4,
   "id": "d661a0fa",
   "metadata": {
    "execution": {
     "iopub.execute_input": "2022-03-17T16:35:55.800183Z",
     "iopub.status.busy": "2022-03-17T16:35:55.799451Z",
     "iopub.status.idle": "2022-03-17T16:35:55.821998Z",
     "shell.execute_reply": "2022-03-17T16:35:55.822545Z",
     "shell.execute_reply.started": "2022-03-17T14:25:59.805300Z"
    },
    "papermill": {
     "duration": 0.052166,
     "end_time": "2022-03-17T16:35:55.822790",
     "exception": false,
     "start_time": "2022-03-17T16:35:55.770624",
     "status": "completed"
    },
    "tags": []
   },
   "outputs": [],
   "source": [
    "words = []\n",
    "labels = []\n",
    "docs_x = []\n",
    "docs_y = []\n",
    "\n",
    "for intent in data['intents']:\n",
    "    for pattern in intent['patterns']:\n",
    "        #tokenize\n",
    "        wrds = nltk.word_tokenize(pattern)\n",
    "        words.extend(wrds)\n",
    "        docs_x.append(wrds)\n",
    "        docs_y.append(intent[\"tag\"])\n",
    "\n",
    "    if intent['tag'] not in labels:\n",
    "        labels.append(intent['tag'])"
   ]
  },
  {
   "cell_type": "code",
   "execution_count": 5,
   "id": "16a8fee3",
   "metadata": {
    "execution": {
     "iopub.execute_input": "2022-03-17T16:35:55.878201Z",
     "iopub.status.busy": "2022-03-17T16:35:55.877507Z",
     "iopub.status.idle": "2022-03-17T16:35:55.884382Z",
     "shell.execute_reply": "2022-03-17T16:35:55.883641Z",
     "shell.execute_reply.started": "2022-03-17T14:25:59.829495Z"
    },
    "papermill": {
     "duration": 0.035801,
     "end_time": "2022-03-17T16:35:55.884591",
     "exception": false,
     "start_time": "2022-03-17T16:35:55.848790",
     "status": "completed"
    },
    "tags": []
   },
   "outputs": [
    {
     "name": "stdout",
     "output_type": "stream",
     "text": [
      "doc_x [['Hi'], ['How', 'are', 'you'], ['Is', 'anyone', 'there', '?'], ['Hello'], ['Good', 'day'], ['Bye'], ['See', 'you', 'later'], ['Goodbye'], ['Thanks'], ['Thank', 'you'], ['That', \"'s\", 'helpful'], ['Emergency'], ['Police'], ['I', 'am', 'in', 'danger'], ['how', 'are', 'you', '?'], ['sup'], ['how', 'it', 'is', 'going', '?'], ['How', 'is', 'the', 'weather', '?'], ['tell', 'me', 'the', 'weather', 'forecast', 'now'], ['what', \"'s\", 'the', 'forecast', '?'], ['what', 'is', 'the', 'weather', 'like', 'right', 'now', '?'], ['what', \"'s\", 'the', 'temperature', 'going', 'to', 'be', 'tomorrow', '?'], ['Is', 'it', 'raining', '?'], ['What', 'is', 'the', 'Hotel', 'next', 'to', 'me', '?'], ['I', 'want', 'to', 'find', 'a', 'hotel'], ['I', 'need', 'to', 'sleep'], ['What', 'are', 'the', 'hotel', 'in', 'location'], ['tell', 'me', 'about', 'topic'], ['what', 'do', 'you', 'know', 'about', 'topic'], ['change', '50', 'dollars', 'to', 'pounds'], ['Convert', '50', 'Euro', 'to', 'pound'], ['Convert', '50', 'dollar', 'to', 'pound'], ['What', 'is', 'the', 'restaurant', 'next', 'to', 'me', '?'], ['I', 'want', 'to', 'find', 'a', 'restaurant'], ['I', 'need', 'to', 'eat'], ['What', 'are', 'the', 'restaurant', 'in', 'location'], ['What', 'is', 'the', 'Clinic', 'next', 'to', 'me', '?'], ['I', 'want', 'to', 'find', 'a', 'Clinic'], ['I', 'need', 'a', 'medicine'], ['What', 'are', 'the', 'restaurant', 'in', 'location']]\n",
      "--------------------------\n",
      "doc_y ['greeting', 'greeting', 'greeting', 'greeting', 'greeting', 'goodbye', 'goodbye', 'goodbye', 'thanks', 'thanks', 'thanks', 'police', 'police', 'police', 'conversation', 'conversation', 'conversation', 'weather', 'weather', 'weather', 'weather', 'weather', 'weather', 'Hotel', 'Hotel', 'Hotel', 'Hotel', 'info', 'info', 'currency', 'currency', 'currency', 'Restaurant', 'Restaurant', 'Restaurant', 'Restaurant', 'Clinic', 'Clinic', 'Clinic', 'Clinic']\n",
      "--------------------------\n",
      "words ['Hi', 'How', 'are', 'you', 'Is', 'anyone', 'there', '?', 'Hello', 'Good', 'day', 'Bye', 'See', 'you', 'later', 'Goodbye', 'Thanks', 'Thank', 'you', 'That', \"'s\", 'helpful', 'Emergency', 'Police', 'I', 'am', 'in', 'danger', 'how', 'are', 'you', '?', 'sup', 'how', 'it', 'is', 'going', '?', 'How', 'is', 'the', 'weather', '?', 'tell', 'me', 'the', 'weather', 'forecast', 'now', 'what', \"'s\", 'the', 'forecast', '?', 'what', 'is', 'the', 'weather', 'like', 'right', 'now', '?', 'what', \"'s\", 'the', 'temperature', 'going', 'to', 'be', 'tomorrow', '?', 'Is', 'it', 'raining', '?', 'What', 'is', 'the', 'Hotel', 'next', 'to', 'me', '?', 'I', 'want', 'to', 'find', 'a', 'hotel', 'I', 'need', 'to', 'sleep', 'What', 'are', 'the', 'hotel', 'in', 'location', 'tell', 'me', 'about', 'topic', 'what', 'do', 'you', 'know', 'about', 'topic', 'change', '50', 'dollars', 'to', 'pounds', 'Convert', '50', 'Euro', 'to', 'pound', 'Convert', '50', 'dollar', 'to', 'pound', 'What', 'is', 'the', 'restaurant', 'next', 'to', 'me', '?', 'I', 'want', 'to', 'find', 'a', 'restaurant', 'I', 'need', 'to', 'eat', 'What', 'are', 'the', 'restaurant', 'in', 'location', 'What', 'is', 'the', 'Clinic', 'next', 'to', 'me', '?', 'I', 'want', 'to', 'find', 'a', 'Clinic', 'I', 'need', 'a', 'medicine', 'What', 'are', 'the', 'restaurant', 'in', 'location']\n",
      "--------------------------\n",
      "['greeting', 'goodbye', 'thanks', 'police', 'conversation', 'weather', 'Hotel', 'info', 'currency', 'Restaurant', 'Clinic']\n"
     ]
    }
   ],
   "source": [
    "print(\"doc_x\" , docs_x)\n",
    "print(\"--------------------------\")\n",
    "print(\"doc_y\" , docs_y)\n",
    "print(\"--------------------------\")\n",
    "\n",
    "print(\"words\",words)\n",
    "print(\"--------------------------\")\n",
    "\n",
    "print(labels)"
   ]
  },
  {
   "cell_type": "code",
   "execution_count": 6,
   "id": "082e0534",
   "metadata": {
    "execution": {
     "iopub.execute_input": "2022-03-17T16:35:55.942358Z",
     "iopub.status.busy": "2022-03-17T16:35:55.941638Z",
     "iopub.status.idle": "2022-03-17T16:35:55.950931Z",
     "shell.execute_reply": "2022-03-17T16:35:55.951444Z",
     "shell.execute_reply.started": "2022-03-17T14:25:59.837507Z"
    },
    "papermill": {
     "duration": 0.038626,
     "end_time": "2022-03-17T16:35:55.951640",
     "exception": false,
     "start_time": "2022-03-17T16:35:55.913014",
     "status": "completed"
    },
    "tags": []
   },
   "outputs": [],
   "source": [
    "\n",
    "words = [stemmer.stem(w.lower()) for w in words if w != \"?\"]\n",
    "#print(words)\n",
    "words = sorted(list(set(words)))\n",
    "\n",
    "labels = sorted(labels)\n",
    "\n",
    "training = []\n",
    "output = []\n",
    "\n",
    "out_empty = [0 for _ in range(len(labels))]"
   ]
  },
  {
   "cell_type": "code",
   "execution_count": 7,
   "id": "f34984e3",
   "metadata": {
    "execution": {
     "iopub.execute_input": "2022-03-17T16:35:56.010296Z",
     "iopub.status.busy": "2022-03-17T16:35:56.009343Z",
     "iopub.status.idle": "2022-03-17T16:35:56.012882Z",
     "shell.execute_reply": "2022-03-17T16:35:56.013574Z",
     "shell.execute_reply.started": "2022-03-17T14:25:59.849171Z"
    },
    "papermill": {
     "duration": 0.036168,
     "end_time": "2022-03-17T16:35:56.013868",
     "exception": false,
     "start_time": "2022-03-17T16:35:55.977700",
     "status": "completed"
    },
    "tags": []
   },
   "outputs": [
    {
     "name": "stdout",
     "output_type": "stream",
     "text": [
      "[\"'s\", '50', 'a', 'about', 'am', 'anyon', 'ar', 'be', 'bye', 'chang', 'clin', 'convert', 'dang', 'day', 'do', 'doll', 'eat', 'emerg', 'euro', 'find', 'forecast', 'going', 'good', 'goodby', 'hello', 'help', 'hi', 'hotel', 'how', 'i', 'in', 'is', 'it', 'know', 'lat', 'lik', 'loc', 'me', 'medicin', 'nee', 'next', 'now', 'pol', 'pound', 'rain', 'resta', 'right', 'see', 'sleep', 'sup', 'tel', 'temp', 'thank', 'that', 'the', 'ther', 'to', 'tomorrow', 'top', 'want', 'weath', 'what', 'you']\n"
     ]
    }
   ],
   "source": [
    "print(words)"
   ]
  },
  {
   "cell_type": "code",
   "execution_count": 8,
   "id": "b8702b14",
   "metadata": {
    "execution": {
     "iopub.execute_input": "2022-03-17T16:35:56.078712Z",
     "iopub.status.busy": "2022-03-17T16:35:56.077766Z",
     "iopub.status.idle": "2022-03-17T16:35:56.083393Z",
     "shell.execute_reply": "2022-03-17T16:35:56.083992Z",
     "shell.execute_reply.started": "2022-03-17T14:25:59.860996Z"
    },
    "papermill": {
     "duration": 0.04234,
     "end_time": "2022-03-17T16:35:56.084207",
     "exception": false,
     "start_time": "2022-03-17T16:35:56.041867",
     "status": "completed"
    },
    "tags": []
   },
   "outputs": [],
   "source": [
    "for x, doc in enumerate(docs_x):\n",
    "    bag = []\n",
    "\n",
    "    wrds = [stemmer.stem(w.lower()) for w in doc]\n",
    "\n",
    "    for w in words:\n",
    "        if w in wrds:\n",
    "            bag.append(1)\n",
    "        else:\n",
    "            bag.append(0)\n",
    "\n",
    "    #print(bag)\n",
    "    output_row = out_empty[:]\n",
    "    output_row[labels.index(docs_y[x])] = 1\n",
    "    #print(output_row)\n",
    "\n",
    "    training.append(bag)\n",
    "    output.append(output_row)\n",
    "\n",
    "#print(training)\n",
    "#print(len(training)) >>> 31\n",
    "training = np.array(training)\n",
    "output = np.array(output)"
   ]
  },
  {
   "cell_type": "code",
   "execution_count": 9,
   "id": "8836a503",
   "metadata": {
    "execution": {
     "iopub.execute_input": "2022-03-17T16:35:56.143754Z",
     "iopub.status.busy": "2022-03-17T16:35:56.143087Z",
     "iopub.status.idle": "2022-03-17T16:35:56.155305Z",
     "shell.execute_reply": "2022-03-17T16:35:56.154222Z",
     "shell.execute_reply.started": "2022-03-17T14:25:59.874190Z"
    },
    "papermill": {
     "duration": 0.042145,
     "end_time": "2022-03-17T16:35:56.155559",
     "exception": false,
     "start_time": "2022-03-17T16:35:56.113414",
     "status": "completed"
    },
    "tags": []
   },
   "outputs": [
    {
     "name": "stdout",
     "output_type": "stream",
     "text": [
      "output [[0 0 0 0 0 0 1 0 0 0 0]\n",
      " [0 0 0 0 0 0 1 0 0 0 0]\n",
      " [0 0 0 0 0 0 1 0 0 0 0]\n",
      " [0 0 0 0 0 0 1 0 0 0 0]\n",
      " [0 0 0 0 0 0 1 0 0 0 0]\n",
      " [0 0 0 0 0 1 0 0 0 0 0]\n",
      " [0 0 0 0 0 1 0 0 0 0 0]\n",
      " [0 0 0 0 0 1 0 0 0 0 0]\n",
      " [0 0 0 0 0 0 0 0 0 1 0]\n",
      " [0 0 0 0 0 0 0 0 0 1 0]\n",
      " [0 0 0 0 0 0 0 0 0 1 0]\n",
      " [0 0 0 0 0 0 0 0 1 0 0]\n",
      " [0 0 0 0 0 0 0 0 1 0 0]\n",
      " [0 0 0 0 0 0 0 0 1 0 0]\n",
      " [0 0 0 1 0 0 0 0 0 0 0]\n",
      " [0 0 0 1 0 0 0 0 0 0 0]\n",
      " [0 0 0 1 0 0 0 0 0 0 0]\n",
      " [0 0 0 0 0 0 0 0 0 0 1]\n",
      " [0 0 0 0 0 0 0 0 0 0 1]\n",
      " [0 0 0 0 0 0 0 0 0 0 1]\n",
      " [0 0 0 0 0 0 0 0 0 0 1]\n",
      " [0 0 0 0 0 0 0 0 0 0 1]\n",
      " [0 0 0 0 0 0 0 0 0 0 1]\n",
      " [0 1 0 0 0 0 0 0 0 0 0]\n",
      " [0 1 0 0 0 0 0 0 0 0 0]\n",
      " [0 1 0 0 0 0 0 0 0 0 0]\n",
      " [0 1 0 0 0 0 0 0 0 0 0]\n",
      " [0 0 0 0 0 0 0 1 0 0 0]\n",
      " [0 0 0 0 0 0 0 1 0 0 0]\n",
      " [0 0 0 0 1 0 0 0 0 0 0]\n",
      " [0 0 0 0 1 0 0 0 0 0 0]\n",
      " [0 0 0 0 1 0 0 0 0 0 0]\n",
      " [0 0 1 0 0 0 0 0 0 0 0]\n",
      " [0 0 1 0 0 0 0 0 0 0 0]\n",
      " [0 0 1 0 0 0 0 0 0 0 0]\n",
      " [0 0 1 0 0 0 0 0 0 0 0]\n",
      " [1 0 0 0 0 0 0 0 0 0 0]\n",
      " [1 0 0 0 0 0 0 0 0 0 0]\n",
      " [1 0 0 0 0 0 0 0 0 0 0]\n",
      " [1 0 0 0 0 0 0 0 0 0 0]]\n",
      "--------------------------\n",
      "training [[0 0 0 ... 0 0 0]\n",
      " [0 0 0 ... 0 0 1]\n",
      " [0 0 0 ... 0 0 0]\n",
      " ...\n",
      " [0 0 1 ... 0 0 0]\n",
      " [0 0 1 ... 0 0 0]\n",
      " [0 0 0 ... 0 1 0]]\n"
     ]
    }
   ],
   "source": [
    "print(\"output\",output)\n",
    "print(\"--------------------------\")\n",
    "print(\"training\",training)"
   ]
  },
  {
   "cell_type": "markdown",
   "id": "988a5668",
   "metadata": {
    "papermill": {
     "duration": 0.03168,
     "end_time": "2022-03-17T16:35:56.217449",
     "exception": false,
     "start_time": "2022-03-17T16:35:56.185769",
     "status": "completed"
    },
    "tags": []
   },
   "source": [
    "## Build Model"
   ]
  },
  {
   "cell_type": "code",
   "execution_count": 10,
   "id": "3d8a2985",
   "metadata": {
    "execution": {
     "iopub.execute_input": "2022-03-17T16:35:56.282045Z",
     "iopub.status.busy": "2022-03-17T16:35:56.281188Z",
     "iopub.status.idle": "2022-03-17T16:35:56.420256Z",
     "shell.execute_reply": "2022-03-17T16:35:56.420804Z",
     "shell.execute_reply.started": "2022-03-17T14:25:59.892138Z"
    },
    "papermill": {
     "duration": 0.174512,
     "end_time": "2022-03-17T16:35:56.421023",
     "exception": false,
     "start_time": "2022-03-17T16:35:56.246511",
     "status": "completed"
    },
    "tags": []
   },
   "outputs": [
    {
     "name": "stderr",
     "output_type": "stream",
     "text": [
      "\n",
      "User settings:\n",
      "\n",
      "   KMP_AFFINITY=granularity=fine,verbose,compact,1,0\n",
      "   KMP_BLOCKTIME=0\n",
      "   KMP_DUPLICATE_LIB_OK=True\n",
      "   KMP_INIT_AT_FORK=FALSE\n",
      "   KMP_SETTINGS=1\n",
      "   KMP_WARNINGS=0\n",
      "\n",
      "Effective settings:\n",
      "\n",
      "   KMP_ABORT_DELAY=0\n",
      "   KMP_ADAPTIVE_LOCK_PROPS='1,1024'\n",
      "   KMP_ALIGN_ALLOC=64\n",
      "   KMP_ALL_THREADPRIVATE=128\n",
      "   KMP_ATOMIC_MODE=2\n",
      "   KMP_BLOCKTIME=0\n",
      "   KMP_CPUINFO_FILE: value is not defined\n",
      "   KMP_DETERMINISTIC_REDUCTION=false\n",
      "   KMP_DEVICE_THREAD_LIMIT=2147483647\n",
      "   KMP_DISP_NUM_BUFFERS=7\n",
      "   KMP_DUPLICATE_LIB_OK=true\n",
      "   KMP_ENABLE_TASK_THROTTLING=true\n",
      "   KMP_FORCE_REDUCTION: value is not defined\n",
      "   KMP_FOREIGN_THREADS_THREADPRIVATE=true\n",
      "   KMP_FORKJOIN_BARRIER='2,2'\n",
      "   KMP_FORKJOIN_BARRIER_PATTERN='hyper,hyper'\n",
      "   KMP_GTID_MODE=3\n",
      "   KMP_HANDLE_SIGNALS=false\n",
      "   KMP_HOT_TEAMS_MAX_LEVEL=1\n",
      "   KMP_HOT_TEAMS_MODE=0\n",
      "   KMP_INIT_AT_FORK=true\n",
      "   KMP_LIBRARY=throughput\n",
      "   KMP_LOCK_KIND=queuing\n",
      "   KMP_MALLOC_POOL_INCR=1M\n",
      "   KMP_NUM_LOCKS_IN_BLOCK=1\n",
      "   KMP_PLAIN_BARRIER='2,2'\n",
      "   KMP_PLAIN_BARRIER_PATTERN='hyper,hyper'\n",
      "   KMP_REDUCTION_BARRIER='1,1'\n",
      "   KMP_REDUCTION_BARRIER_PATTERN='hyper,hyper'\n",
      "   KMP_SCHEDULE='static,balanced;guided,iterative'\n",
      "   KMP_SETTINGS=true\n",
      "   KMP_SPIN_BACKOFF_PARAMS='4096,100'\n",
      "   KMP_STACKOFFSET=64\n",
      "   KMP_STACKPAD=0\n",
      "   KMP_STACKSIZE=8M\n",
      "   KMP_STORAGE_MAP=false\n",
      "   KMP_TASKING=2\n",
      "   KMP_TASKLOOP_MIN_TASKS=0\n",
      "   KMP_TASK_STEALING_CONSTRAINT=1\n",
      "   KMP_TEAMS_THREAD_LIMIT=4\n",
      "   KMP_TOPOLOGY_METHOD=all\n",
      "   KMP_USE_YIELD=1\n",
      "   KMP_VERSION=false\n",
      "   KMP_WARNINGS=false\n",
      "   OMP_AFFINITY_FORMAT='OMP: pid %P tid %i thread %n bound to OS proc set {%A}'\n",
      "   OMP_ALLOCATOR=omp_default_mem_alloc\n",
      "   OMP_CANCELLATION=false\n",
      "   OMP_DEFAULT_DEVICE=0\n",
      "   OMP_DISPLAY_AFFINITY=false\n",
      "   OMP_DISPLAY_ENV=false\n",
      "   OMP_DYNAMIC=false\n",
      "   OMP_MAX_ACTIVE_LEVELS=1\n",
      "   OMP_MAX_TASK_PRIORITY=0\n",
      "   OMP_NESTED: deprecated; max-active-levels-var=1\n",
      "   OMP_NUM_THREADS: value is not defined\n",
      "   OMP_PLACES: value is not defined\n",
      "   OMP_PROC_BIND='intel'\n",
      "   OMP_SCHEDULE='static'\n",
      "   OMP_STACKSIZE=8M\n",
      "   OMP_TARGET_OFFLOAD=DEFAULT\n",
      "   OMP_THREAD_LIMIT=2147483647\n",
      "   OMP_WAIT_POLICY=PASSIVE\n",
      "   KMP_AFFINITY='verbose,warnings,respect,granularity=fine,compact,1,0'\n",
      "\n",
      "2022-03-17 16:35:56.319312: I tensorflow/core/common_runtime/process_util.cc:146] Creating new thread pool with default inter op setting: 2. Tune using inter_op_parallelism_threads for best performance.\n"
     ]
    }
   ],
   "source": [
    "# Create model - 3 layers. First layer 128 neurons, second layer 64 neurons and 3rd output layer contains number of neurons\n",
    "# equal to number of intents to predict output intent with softmax\n",
    "model = Sequential()\n",
    "model.add(Dense(128, input_shape=(len(training[0]),), activation='relu'))\n",
    "model.add(Dropout(0.5))\n",
    "model.add(Dense(64, activation='relu'))\n",
    "model.add(Dropout(0.5))\n",
    "model.add(Dense(len(output[0]), activation='softmax'))"
   ]
  },
  {
   "cell_type": "code",
   "execution_count": 11,
   "id": "3a98a355",
   "metadata": {
    "execution": {
     "iopub.execute_input": "2022-03-17T16:35:56.478910Z",
     "iopub.status.busy": "2022-03-17T16:35:56.478219Z",
     "iopub.status.idle": "2022-03-17T16:35:56.490821Z",
     "shell.execute_reply": "2022-03-17T16:35:56.491351Z",
     "shell.execute_reply.started": "2022-03-17T14:26:00.025638Z"
    },
    "papermill": {
     "duration": 0.043361,
     "end_time": "2022-03-17T16:35:56.491567",
     "exception": false,
     "start_time": "2022-03-17T16:35:56.448206",
     "status": "completed"
    },
    "tags": []
   },
   "outputs": [],
   "source": [
    "model.compile(optimizer=\"adam\", loss=\"categorical_crossentropy\", metrics=[\"accuracy\"])\n"
   ]
  },
  {
   "cell_type": "code",
   "execution_count": 12,
   "id": "c8bec3b5",
   "metadata": {
    "execution": {
     "iopub.execute_input": "2022-03-17T16:35:56.549856Z",
     "iopub.status.busy": "2022-03-17T16:35:56.549166Z",
     "iopub.status.idle": "2022-03-17T16:35:59.676876Z",
     "shell.execute_reply": "2022-03-17T16:35:59.676145Z",
     "shell.execute_reply.started": "2022-03-17T14:26:00.042182Z"
    },
    "papermill": {
     "duration": 3.15845,
     "end_time": "2022-03-17T16:35:59.677072",
     "exception": false,
     "start_time": "2022-03-17T16:35:56.518622",
     "status": "completed"
    },
    "tags": []
   },
   "outputs": [
    {
     "name": "stderr",
     "output_type": "stream",
     "text": [
      "2022-03-17 16:35:56.632675: I tensorflow/compiler/mlir/mlir_graph_optimization_pass.cc:185] None of the MLIR Optimization Passes are enabled (registered 2)\n"
     ]
    },
    {
     "name": "stdout",
     "output_type": "stream",
     "text": [
      "Epoch 1/200\n",
      "2/2 [==============================] - 1s 7ms/step - loss: 2.3890 - accuracy: 0.1000\n",
      "Epoch 2/200\n",
      "2/2 [==============================] - 0s 6ms/step - loss: 2.4664 - accuracy: 0.0750\n",
      "Epoch 3/200\n",
      "2/2 [==============================] - 0s 5ms/step - loss: 2.4236 - accuracy: 0.0250\n",
      "Epoch 4/200\n",
      "2/2 [==============================] - 0s 5ms/step - loss: 2.3896 - accuracy: 0.1250\n",
      "Epoch 5/200\n",
      "2/2 [==============================] - 0s 6ms/step - loss: 2.3892 - accuracy: 0.1000\n",
      "Epoch 6/200\n",
      "2/2 [==============================] - 0s 4ms/step - loss: 2.3526 - accuracy: 0.0750\n",
      "Epoch 7/200\n",
      "2/2 [==============================] - 0s 5ms/step - loss: 2.2666 - accuracy: 0.2750\n",
      "Epoch 8/200\n",
      "2/2 [==============================] - 0s 5ms/step - loss: 2.3237 - accuracy: 0.1250\n",
      "Epoch 9/200\n",
      "2/2 [==============================] - 0s 4ms/step - loss: 2.3028 - accuracy: 0.1250\n",
      "Epoch 10/200\n",
      "2/2 [==============================] - 0s 4ms/step - loss: 2.2383 - accuracy: 0.2250\n",
      "Epoch 11/200\n",
      "2/2 [==============================] - 0s 4ms/step - loss: 2.2713 - accuracy: 0.1500\n",
      "Epoch 12/200\n",
      "2/2 [==============================] - 0s 4ms/step - loss: 2.2212 - accuracy: 0.3000\n",
      "Epoch 13/200\n",
      "2/2 [==============================] - 0s 6ms/step - loss: 2.1701 - accuracy: 0.3000\n",
      "Epoch 14/200\n",
      "2/2 [==============================] - 0s 4ms/step - loss: 2.2433 - accuracy: 0.1250\n",
      "Epoch 15/200\n",
      "2/2 [==============================] - 0s 4ms/step - loss: 2.2384 - accuracy: 0.2250\n",
      "Epoch 16/200\n",
      "2/2 [==============================] - 0s 5ms/step - loss: 2.1309 - accuracy: 0.3250\n",
      "Epoch 17/200\n",
      "2/2 [==============================] - 0s 4ms/step - loss: 2.1975 - accuracy: 0.2000\n",
      "Epoch 18/200\n",
      "2/2 [==============================] - 0s 4ms/step - loss: 2.1483 - accuracy: 0.3500\n",
      "Epoch 19/200\n",
      "2/2 [==============================] - 0s 4ms/step - loss: 2.1728 - accuracy: 0.1750\n",
      "Epoch 20/200\n",
      "2/2 [==============================] - 0s 5ms/step - loss: 2.1655 - accuracy: 0.3000\n",
      "Epoch 21/200\n",
      "2/2 [==============================] - 0s 5ms/step - loss: 2.1983 - accuracy: 0.2500\n",
      "Epoch 22/200\n",
      "2/2 [==============================] - 0s 6ms/step - loss: 2.0662 - accuracy: 0.4250\n",
      "Epoch 23/200\n",
      "2/2 [==============================] - 0s 5ms/step - loss: 2.0739 - accuracy: 0.3500\n",
      "Epoch 24/200\n",
      "2/2 [==============================] - 0s 4ms/step - loss: 2.1700 - accuracy: 0.2250\n",
      "Epoch 25/200\n",
      "2/2 [==============================] - 0s 5ms/step - loss: 2.0758 - accuracy: 0.2500\n",
      "Epoch 26/200\n",
      "2/2 [==============================] - 0s 5ms/step - loss: 2.0223 - accuracy: 0.3000\n",
      "Epoch 27/200\n",
      "2/2 [==============================] - 0s 4ms/step - loss: 2.0842 - accuracy: 0.3000\n",
      "Epoch 28/200\n",
      "2/2 [==============================] - 0s 4ms/step - loss: 1.9842 - accuracy: 0.4000\n",
      "Epoch 29/200\n",
      "2/2 [==============================] - 0s 6ms/step - loss: 2.0300 - accuracy: 0.2250\n",
      "Epoch 30/200\n",
      "2/2 [==============================] - 0s 4ms/step - loss: 2.0404 - accuracy: 0.3250\n",
      "Epoch 31/200\n",
      "2/2 [==============================] - 0s 5ms/step - loss: 1.9943 - accuracy: 0.4250\n",
      "Epoch 32/200\n",
      "2/2 [==============================] - 0s 5ms/step - loss: 1.9181 - accuracy: 0.4000\n",
      "Epoch 33/200\n",
      "2/2 [==============================] - 0s 4ms/step - loss: 1.9892 - accuracy: 0.3000\n",
      "Epoch 34/200\n",
      "2/2 [==============================] - 0s 4ms/step - loss: 1.9446 - accuracy: 0.3750\n",
      "Epoch 35/200\n",
      "2/2 [==============================] - 0s 5ms/step - loss: 1.9735 - accuracy: 0.4250\n",
      "Epoch 36/200\n",
      "2/2 [==============================] - 0s 4ms/step - loss: 1.9831 - accuracy: 0.4000\n",
      "Epoch 37/200\n",
      "2/2 [==============================] - 0s 6ms/step - loss: 1.9141 - accuracy: 0.3500\n",
      "Epoch 38/200\n",
      "2/2 [==============================] - 0s 4ms/step - loss: 1.8846 - accuracy: 0.5250\n",
      "Epoch 39/200\n",
      "2/2 [==============================] - 0s 4ms/step - loss: 1.8780 - accuracy: 0.4000\n",
      "Epoch 40/200\n",
      "2/2 [==============================] - 0s 5ms/step - loss: 1.8788 - accuracy: 0.4500\n",
      "Epoch 41/200\n",
      "2/2 [==============================] - 0s 4ms/step - loss: 1.8740 - accuracy: 0.4250\n",
      "Epoch 42/200\n",
      "2/2 [==============================] - 0s 5ms/step - loss: 1.7616 - accuracy: 0.5750\n",
      "Epoch 43/200\n",
      "2/2 [==============================] - 0s 4ms/step - loss: 1.7844 - accuracy: 0.5250\n",
      "Epoch 44/200\n",
      "2/2 [==============================] - 0s 5ms/step - loss: 1.7665 - accuracy: 0.4750\n",
      "Epoch 45/200\n",
      "2/2 [==============================] - 0s 5ms/step - loss: 1.7586 - accuracy: 0.4250\n",
      "Epoch 46/200\n",
      "2/2 [==============================] - 0s 5ms/step - loss: 1.7046 - accuracy: 0.5500\n",
      "Epoch 47/200\n",
      "2/2 [==============================] - 0s 5ms/step - loss: 1.7868 - accuracy: 0.4500\n",
      "Epoch 48/200\n",
      "2/2 [==============================] - 0s 6ms/step - loss: 1.6088 - accuracy: 0.5500\n",
      "Epoch 49/200\n",
      "2/2 [==============================] - 0s 6ms/step - loss: 1.6401 - accuracy: 0.4500\n",
      "Epoch 50/200\n",
      "2/2 [==============================] - 0s 4ms/step - loss: 1.6113 - accuracy: 0.6250\n",
      "Epoch 51/200\n",
      "2/2 [==============================] - 0s 4ms/step - loss: 1.5607 - accuracy: 0.6750\n",
      "Epoch 52/200\n",
      "2/2 [==============================] - 0s 4ms/step - loss: 1.5693 - accuracy: 0.5750\n",
      "Epoch 53/200\n",
      "2/2 [==============================] - 0s 4ms/step - loss: 1.6896 - accuracy: 0.6250\n",
      "Epoch 54/200\n",
      "2/2 [==============================] - 0s 5ms/step - loss: 1.5661 - accuracy: 0.6750\n",
      "Epoch 55/200\n",
      "2/2 [==============================] - 0s 4ms/step - loss: 1.5696 - accuracy: 0.5250\n",
      "Epoch 56/200\n",
      "2/2 [==============================] - 0s 4ms/step - loss: 1.6501 - accuracy: 0.5750\n",
      "Epoch 57/200\n",
      "2/2 [==============================] - 0s 5ms/step - loss: 1.4196 - accuracy: 0.7000\n",
      "Epoch 58/200\n",
      "2/2 [==============================] - 0s 6ms/step - loss: 1.4832 - accuracy: 0.7000\n",
      "Epoch 59/200\n",
      "2/2 [==============================] - 0s 5ms/step - loss: 1.5584 - accuracy: 0.5500\n",
      "Epoch 60/200\n",
      "2/2 [==============================] - 0s 7ms/step - loss: 1.4264 - accuracy: 0.6750\n",
      "Epoch 61/200\n",
      "2/2 [==============================] - 0s 4ms/step - loss: 1.4073 - accuracy: 0.6750\n",
      "Epoch 62/200\n",
      "2/2 [==============================] - 0s 5ms/step - loss: 1.4358 - accuracy: 0.6500\n",
      "Epoch 63/200\n",
      "2/2 [==============================] - 0s 5ms/step - loss: 1.4394 - accuracy: 0.7250\n",
      "Epoch 64/200\n",
      "2/2 [==============================] - 0s 5ms/step - loss: 1.3541 - accuracy: 0.6250\n",
      "Epoch 65/200\n",
      "2/2 [==============================] - 0s 6ms/step - loss: 1.4064 - accuracy: 0.6750\n",
      "Epoch 66/200\n",
      "2/2 [==============================] - 0s 5ms/step - loss: 1.2841 - accuracy: 0.7750\n",
      "Epoch 67/200\n",
      "2/2 [==============================] - 0s 4ms/step - loss: 1.2586 - accuracy: 0.7500\n",
      "Epoch 68/200\n",
      "2/2 [==============================] - 0s 5ms/step - loss: 1.3683 - accuracy: 0.6250\n",
      "Epoch 69/200\n",
      "2/2 [==============================] - 0s 6ms/step - loss: 1.4046 - accuracy: 0.6750\n",
      "Epoch 70/200\n",
      "2/2 [==============================] - 0s 5ms/step - loss: 1.4052 - accuracy: 0.6750\n",
      "Epoch 71/200\n",
      "2/2 [==============================] - 0s 5ms/step - loss: 1.1850 - accuracy: 0.8250\n",
      "Epoch 72/200\n",
      "2/2 [==============================] - 0s 5ms/step - loss: 1.3479 - accuracy: 0.7000\n",
      "Epoch 73/200\n",
      "2/2 [==============================] - 0s 5ms/step - loss: 1.2161 - accuracy: 0.7250\n",
      "Epoch 74/200\n",
      "2/2 [==============================] - 0s 5ms/step - loss: 1.2306 - accuracy: 0.7500\n",
      "Epoch 75/200\n",
      "2/2 [==============================] - 0s 5ms/step - loss: 1.2745 - accuracy: 0.7250\n",
      "Epoch 76/200\n",
      "2/2 [==============================] - 0s 5ms/step - loss: 1.2959 - accuracy: 0.6750\n",
      "Epoch 77/200\n",
      "2/2 [==============================] - 0s 4ms/step - loss: 1.1593 - accuracy: 0.7750\n",
      "Epoch 78/200\n",
      "2/2 [==============================] - 0s 6ms/step - loss: 1.0659 - accuracy: 0.8000\n",
      "Epoch 79/200\n",
      "2/2 [==============================] - 0s 6ms/step - loss: 1.1199 - accuracy: 0.7500\n",
      "Epoch 80/200\n",
      "2/2 [==============================] - 0s 5ms/step - loss: 1.1282 - accuracy: 0.7750\n",
      "Epoch 81/200\n",
      "2/2 [==============================] - 0s 5ms/step - loss: 1.2420 - accuracy: 0.6500\n",
      "Epoch 82/200\n",
      "2/2 [==============================] - 0s 4ms/step - loss: 1.0928 - accuracy: 0.7250\n",
      "Epoch 83/200\n",
      "2/2 [==============================] - 0s 5ms/step - loss: 0.8936 - accuracy: 0.8500\n",
      "Epoch 84/200\n",
      "2/2 [==============================] - 0s 5ms/step - loss: 0.9345 - accuracy: 0.8750\n",
      "Epoch 85/200\n",
      "2/2 [==============================] - 0s 4ms/step - loss: 1.0338 - accuracy: 0.8500\n",
      "Epoch 86/200\n",
      "2/2 [==============================] - 0s 4ms/step - loss: 1.1047 - accuracy: 0.7500\n",
      "Epoch 87/200\n",
      "2/2 [==============================] - 0s 6ms/step - loss: 1.0907 - accuracy: 0.7750\n",
      "Epoch 88/200\n",
      "2/2 [==============================] - 0s 5ms/step - loss: 0.9825 - accuracy: 0.7750\n",
      "Epoch 89/200\n",
      "2/2 [==============================] - 0s 6ms/step - loss: 1.0092 - accuracy: 0.7250\n",
      "Epoch 90/200\n",
      "2/2 [==============================] - 0s 5ms/step - loss: 0.9355 - accuracy: 0.8500\n",
      "Epoch 91/200\n",
      "2/2 [==============================] - 0s 5ms/step - loss: 0.9553 - accuracy: 0.7250\n",
      "Epoch 92/200\n",
      "2/2 [==============================] - 0s 4ms/step - loss: 1.0932 - accuracy: 0.8250\n",
      "Epoch 93/200\n",
      "2/2 [==============================] - 0s 4ms/step - loss: 0.8368 - accuracy: 0.8500\n",
      "Epoch 94/200\n",
      "2/2 [==============================] - 0s 4ms/step - loss: 1.0711 - accuracy: 0.6750\n",
      "Epoch 95/200\n",
      "2/2 [==============================] - 0s 4ms/step - loss: 0.9328 - accuracy: 0.8250\n",
      "Epoch 96/200\n",
      "2/2 [==============================] - 0s 4ms/step - loss: 1.0932 - accuracy: 0.7750\n",
      "Epoch 97/200\n",
      "2/2 [==============================] - 0s 6ms/step - loss: 0.7920 - accuracy: 0.8500\n",
      "Epoch 98/200\n",
      "2/2 [==============================] - 0s 4ms/step - loss: 0.8322 - accuracy: 0.8250\n",
      "Epoch 99/200\n",
      "2/2 [==============================] - 0s 4ms/step - loss: 0.7683 - accuracy: 0.9000\n",
      "Epoch 100/200\n",
      "2/2 [==============================] - 0s 4ms/step - loss: 1.0039 - accuracy: 0.7500\n",
      "Epoch 101/200\n",
      "2/2 [==============================] - 0s 5ms/step - loss: 0.9101 - accuracy: 0.7750\n",
      "Epoch 102/200\n",
      "2/2 [==============================] - 0s 6ms/step - loss: 0.8053 - accuracy: 0.7750\n",
      "Epoch 103/200\n",
      "2/2 [==============================] - 0s 6ms/step - loss: 0.7335 - accuracy: 0.8500\n",
      "Epoch 104/200\n",
      "2/2 [==============================] - 0s 5ms/step - loss: 0.7724 - accuracy: 0.8250\n",
      "Epoch 105/200\n",
      "2/2 [==============================] - 0s 5ms/step - loss: 0.7808 - accuracy: 0.8000\n",
      "Epoch 106/200\n",
      "2/2 [==============================] - 0s 4ms/step - loss: 0.8225 - accuracy: 0.9000\n",
      "Epoch 107/200\n",
      "2/2 [==============================] - 0s 6ms/step - loss: 0.9209 - accuracy: 0.6750\n",
      "Epoch 108/200\n",
      "2/2 [==============================] - 0s 4ms/step - loss: 0.7809 - accuracy: 0.9000\n",
      "Epoch 109/200\n",
      "2/2 [==============================] - 0s 6ms/step - loss: 0.6922 - accuracy: 0.9250\n",
      "Epoch 110/200\n",
      "2/2 [==============================] - 0s 5ms/step - loss: 0.8532 - accuracy: 0.6750\n",
      "Epoch 111/200\n",
      "2/2 [==============================] - 0s 4ms/step - loss: 0.6346 - accuracy: 0.9000\n",
      "Epoch 112/200\n",
      "2/2 [==============================] - 0s 4ms/step - loss: 0.7347 - accuracy: 0.8250\n",
      "Epoch 113/200\n",
      "2/2 [==============================] - 0s 5ms/step - loss: 0.7041 - accuracy: 0.8250\n",
      "Epoch 114/200\n",
      "2/2 [==============================] - 0s 5ms/step - loss: 0.6348 - accuracy: 0.8750\n",
      "Epoch 115/200\n",
      "2/2 [==============================] - 0s 5ms/step - loss: 0.7317 - accuracy: 0.8250\n",
      "Epoch 116/200\n",
      "2/2 [==============================] - 0s 4ms/step - loss: 0.6273 - accuracy: 0.9000\n",
      "Epoch 117/200\n",
      "2/2 [==============================] - 0s 4ms/step - loss: 0.5404 - accuracy: 0.9250\n",
      "Epoch 118/200\n",
      "2/2 [==============================] - 0s 5ms/step - loss: 0.6496 - accuracy: 0.9250\n",
      "Epoch 119/200\n",
      "2/2 [==============================] - 0s 4ms/step - loss: 0.5751 - accuracy: 0.9000\n",
      "Epoch 120/200\n",
      "2/2 [==============================] - 0s 5ms/step - loss: 0.5486 - accuracy: 0.8750\n",
      "Epoch 121/200\n",
      "2/2 [==============================] - 0s 4ms/step - loss: 0.6508 - accuracy: 0.8500\n",
      "Epoch 122/200\n",
      "2/2 [==============================] - 0s 5ms/step - loss: 0.6971 - accuracy: 0.8750\n",
      "Epoch 123/200\n",
      "2/2 [==============================] - 0s 5ms/step - loss: 0.6490 - accuracy: 0.8750\n",
      "Epoch 124/200\n",
      "2/2 [==============================] - 0s 4ms/step - loss: 0.6081 - accuracy: 0.8500\n",
      "Epoch 125/200\n",
      "2/2 [==============================] - 0s 5ms/step - loss: 0.7543 - accuracy: 0.8000\n",
      "Epoch 126/200\n",
      "2/2 [==============================] - 0s 5ms/step - loss: 0.5070 - accuracy: 0.8750\n",
      "Epoch 127/200\n",
      "2/2 [==============================] - 0s 5ms/step - loss: 0.5627 - accuracy: 0.8500\n",
      "Epoch 128/200\n",
      "2/2 [==============================] - 0s 5ms/step - loss: 0.4728 - accuracy: 0.9500\n",
      "Epoch 129/200\n",
      "2/2 [==============================] - 0s 5ms/step - loss: 0.6174 - accuracy: 0.8250\n",
      "Epoch 130/200\n",
      "2/2 [==============================] - 0s 4ms/step - loss: 0.5926 - accuracy: 0.8500\n",
      "Epoch 131/200\n",
      "2/2 [==============================] - 0s 4ms/step - loss: 0.5902 - accuracy: 0.8750\n",
      "Epoch 132/200\n",
      "2/2 [==============================] - 0s 4ms/step - loss: 0.6714 - accuracy: 0.8500\n",
      "Epoch 133/200\n",
      "2/2 [==============================] - 0s 5ms/step - loss: 0.5483 - accuracy: 0.9000\n",
      "Epoch 134/200\n",
      "2/2 [==============================] - 0s 4ms/step - loss: 0.4703 - accuracy: 0.9250\n",
      "Epoch 135/200\n",
      "2/2 [==============================] - 0s 5ms/step - loss: 0.5810 - accuracy: 0.8000\n",
      "Epoch 136/200\n",
      "2/2 [==============================] - 0s 5ms/step - loss: 0.4643 - accuracy: 0.9000\n",
      "Epoch 137/200\n",
      "2/2 [==============================] - 0s 5ms/step - loss: 0.5105 - accuracy: 0.9000\n",
      "Epoch 138/200\n",
      "2/2 [==============================] - 0s 4ms/step - loss: 0.6106 - accuracy: 0.7750\n",
      "Epoch 139/200\n",
      "2/2 [==============================] - 0s 4ms/step - loss: 0.4931 - accuracy: 0.9250\n",
      "Epoch 140/200\n",
      "2/2 [==============================] - 0s 4ms/step - loss: 0.4155 - accuracy: 0.9250\n",
      "Epoch 141/200\n",
      "2/2 [==============================] - 0s 4ms/step - loss: 0.4022 - accuracy: 0.8750\n",
      "Epoch 142/200\n",
      "2/2 [==============================] - 0s 4ms/step - loss: 0.4520 - accuracy: 0.9000\n",
      "Epoch 143/200\n",
      "2/2 [==============================] - 0s 4ms/step - loss: 0.3897 - accuracy: 0.9250\n",
      "Epoch 144/200\n",
      "2/2 [==============================] - 0s 5ms/step - loss: 0.4770 - accuracy: 0.9500\n",
      "Epoch 145/200\n",
      "2/2 [==============================] - 0s 5ms/step - loss: 0.5396 - accuracy: 0.8750\n",
      "Epoch 146/200\n",
      "2/2 [==============================] - 0s 4ms/step - loss: 0.4585 - accuracy: 0.9500\n",
      "Epoch 147/200\n",
      "2/2 [==============================] - 0s 4ms/step - loss: 0.4353 - accuracy: 0.8750\n",
      "Epoch 148/200\n",
      "2/2 [==============================] - 0s 4ms/step - loss: 0.4007 - accuracy: 0.9000\n",
      "Epoch 149/200\n",
      "2/2 [==============================] - 0s 5ms/step - loss: 0.5851 - accuracy: 0.8250\n",
      "Epoch 150/200\n",
      "2/2 [==============================] - 0s 4ms/step - loss: 0.3648 - accuracy: 0.9500\n",
      "Epoch 151/200\n",
      "2/2 [==============================] - 0s 5ms/step - loss: 0.4732 - accuracy: 0.8500\n",
      "Epoch 152/200\n",
      "2/2 [==============================] - 0s 5ms/step - loss: 0.4449 - accuracy: 0.8750\n",
      "Epoch 153/200\n",
      "2/2 [==============================] - 0s 6ms/step - loss: 0.4574 - accuracy: 0.8750\n",
      "Epoch 154/200\n",
      "2/2 [==============================] - 0s 4ms/step - loss: 0.4364 - accuracy: 0.8500\n",
      "Epoch 155/200\n",
      "2/2 [==============================] - 0s 5ms/step - loss: 0.4115 - accuracy: 0.8500\n",
      "Epoch 156/200\n",
      "2/2 [==============================] - 0s 6ms/step - loss: 0.4571 - accuracy: 0.8500\n",
      "Epoch 157/200\n",
      "2/2 [==============================] - 0s 5ms/step - loss: 0.4024 - accuracy: 0.9250\n",
      "Epoch 158/200\n",
      "2/2 [==============================] - 0s 5ms/step - loss: 0.3880 - accuracy: 0.9000\n",
      "Epoch 159/200\n",
      "2/2 [==============================] - 0s 5ms/step - loss: 0.4346 - accuracy: 0.8500\n",
      "Epoch 160/200\n",
      "2/2 [==============================] - 0s 4ms/step - loss: 0.3759 - accuracy: 0.9250\n",
      "Epoch 161/200\n",
      "2/2 [==============================] - 0s 4ms/step - loss: 0.4194 - accuracy: 0.9500\n",
      "Epoch 162/200\n",
      "2/2 [==============================] - 0s 8ms/step - loss: 0.2719 - accuracy: 0.9750\n",
      "Epoch 163/200\n",
      "2/2 [==============================] - 0s 5ms/step - loss: 0.3767 - accuracy: 0.9000\n",
      "Epoch 164/200\n",
      "2/2 [==============================] - 0s 4ms/step - loss: 0.3982 - accuracy: 0.9250\n",
      "Epoch 165/200\n",
      "2/2 [==============================] - 0s 5ms/step - loss: 0.3524 - accuracy: 0.9000\n",
      "Epoch 166/200\n",
      "2/2 [==============================] - 0s 7ms/step - loss: 0.2975 - accuracy: 0.9000\n",
      "Epoch 167/200\n",
      "2/2 [==============================] - 0s 4ms/step - loss: 0.2495 - accuracy: 0.9500\n",
      "Epoch 168/200\n",
      "2/2 [==============================] - 0s 4ms/step - loss: 0.3837 - accuracy: 0.8750\n",
      "Epoch 169/200\n",
      "2/2 [==============================] - 0s 6ms/step - loss: 0.2954 - accuracy: 0.9750\n",
      "Epoch 170/200\n",
      "2/2 [==============================] - 0s 5ms/step - loss: 0.5006 - accuracy: 0.8000\n",
      "Epoch 171/200\n",
      "2/2 [==============================] - 0s 4ms/step - loss: 0.2669 - accuracy: 0.9500\n",
      "Epoch 172/200\n",
      "2/2 [==============================] - 0s 4ms/step - loss: 0.4429 - accuracy: 0.8250\n",
      "Epoch 173/200\n",
      "2/2 [==============================] - 0s 4ms/step - loss: 0.4111 - accuracy: 0.8500\n",
      "Epoch 174/200\n",
      "2/2 [==============================] - 0s 4ms/step - loss: 0.4264 - accuracy: 0.8750\n",
      "Epoch 175/200\n",
      "2/2 [==============================] - 0s 4ms/step - loss: 0.2399 - accuracy: 0.9500\n",
      "Epoch 176/200\n",
      "2/2 [==============================] - 0s 4ms/step - loss: 0.4036 - accuracy: 0.8500\n",
      "Epoch 177/200\n",
      "2/2 [==============================] - 0s 4ms/step - loss: 0.2779 - accuracy: 0.9250\n",
      "Epoch 178/200\n",
      "2/2 [==============================] - 0s 4ms/step - loss: 0.3478 - accuracy: 0.9000\n",
      "Epoch 179/200\n",
      "2/2 [==============================] - 0s 4ms/step - loss: 0.3042 - accuracy: 0.9250\n",
      "Epoch 180/200\n",
      "2/2 [==============================] - 0s 4ms/step - loss: 0.4103 - accuracy: 0.9000\n",
      "Epoch 181/200\n",
      "2/2 [==============================] - 0s 4ms/step - loss: 0.3001 - accuracy: 0.9250\n",
      "Epoch 182/200\n",
      "2/2 [==============================] - 0s 3ms/step - loss: 0.3058 - accuracy: 0.9250\n",
      "Epoch 183/200\n",
      "2/2 [==============================] - 0s 4ms/step - loss: 0.3027 - accuracy: 0.9000\n",
      "Epoch 184/200\n",
      "2/2 [==============================] - 0s 4ms/step - loss: 0.2327 - accuracy: 0.9750\n",
      "Epoch 185/200\n",
      "2/2 [==============================] - 0s 5ms/step - loss: 0.2532 - accuracy: 0.9500\n",
      "Epoch 186/200\n",
      "2/2 [==============================] - 0s 4ms/step - loss: 0.3810 - accuracy: 0.8750\n",
      "Epoch 187/200\n",
      "2/2 [==============================] - 0s 4ms/step - loss: 0.3950 - accuracy: 0.8750\n",
      "Epoch 188/200\n",
      "2/2 [==============================] - 0s 6ms/step - loss: 0.2966 - accuracy: 0.8750\n",
      "Epoch 189/200\n",
      "2/2 [==============================] - 0s 5ms/step - loss: 0.3161 - accuracy: 0.9000\n",
      "Epoch 190/200\n",
      "2/2 [==============================] - 0s 5ms/step - loss: 0.2707 - accuracy: 0.9750\n",
      "Epoch 191/200\n",
      "2/2 [==============================] - 0s 5ms/step - loss: 0.2720 - accuracy: 0.9250\n",
      "Epoch 192/200\n",
      "2/2 [==============================] - 0s 4ms/step - loss: 0.2967 - accuracy: 0.9500\n",
      "Epoch 193/200\n",
      "2/2 [==============================] - 0s 4ms/step - loss: 0.3319 - accuracy: 0.9250\n",
      "Epoch 194/200\n",
      "2/2 [==============================] - 0s 5ms/step - loss: 0.3881 - accuracy: 0.8750\n",
      "Epoch 195/200\n",
      "2/2 [==============================] - 0s 5ms/step - loss: 0.3598 - accuracy: 0.8750\n",
      "Epoch 196/200\n",
      "2/2 [==============================] - 0s 5ms/step - loss: 0.3028 - accuracy: 0.9250\n",
      "Epoch 197/200\n",
      "2/2 [==============================] - 0s 4ms/step - loss: 0.3958 - accuracy: 0.9000\n",
      "Epoch 198/200\n",
      "2/2 [==============================] - 0s 5ms/step - loss: 0.4303 - accuracy: 0.8750\n",
      "Epoch 199/200\n",
      "2/2 [==============================] - 0s 4ms/step - loss: 0.4244 - accuracy: 0.8250\n",
      "Epoch 200/200\n",
      "2/2 [==============================] - 0s 4ms/step - loss: 0.3392 - accuracy: 0.9250\n"
     ]
    },
    {
     "data": {
      "text/plain": [
       "<keras.callbacks.History at 0x7f73b081f590>"
      ]
     },
     "execution_count": 12,
     "metadata": {},
     "output_type": "execute_result"
    }
   ],
   "source": [
    "model.fit(training, output, epochs=200)\n"
   ]
  },
  {
   "cell_type": "code",
   "execution_count": 13,
   "id": "696cfd36",
   "metadata": {
    "execution": {
     "iopub.execute_input": "2022-03-17T16:36:00.088616Z",
     "iopub.status.busy": "2022-03-17T16:36:00.087827Z",
     "iopub.status.idle": "2022-03-17T16:36:00.112389Z",
     "shell.execute_reply": "2022-03-17T16:36:00.112910Z",
     "shell.execute_reply.started": "2022-03-17T14:26:03.281665Z"
    },
    "papermill": {
     "duration": 0.238899,
     "end_time": "2022-03-17T16:36:00.113118",
     "exception": false,
     "start_time": "2022-03-17T16:35:59.874219",
     "status": "completed"
    },
    "tags": []
   },
   "outputs": [],
   "source": [
    "model.save(\"model.h5\")\n",
    "model_json = model.to_json()\n",
    "with open(\"model.json\", \"w\") as json_file:\n",
    "    json_file.write(model_json)\n"
   ]
  },
  {
   "cell_type": "markdown",
   "id": "ca0f36f5",
   "metadata": {
    "papermill": {
     "duration": 0.192902,
     "end_time": "2022-03-17T16:36:00.500931",
     "exception": false,
     "start_time": "2022-03-17T16:36:00.308029",
     "status": "completed"
    },
    "tags": []
   },
   "source": [
    "# Space Entity"
   ]
  },
  {
   "cell_type": "code",
   "execution_count": 14,
   "id": "f027cacf",
   "metadata": {
    "execution": {
     "iopub.execute_input": "2022-03-17T16:36:00.895305Z",
     "iopub.status.busy": "2022-03-17T16:36:00.894499Z",
     "iopub.status.idle": "2022-03-17T16:36:15.734078Z",
     "shell.execute_reply": "2022-03-17T16:36:15.733230Z",
     "shell.execute_reply.started": "2022-03-17T14:26:03.314008Z"
    },
    "papermill": {
     "duration": 15.038102,
     "end_time": "2022-03-17T16:36:15.734267",
     "exception": false,
     "start_time": "2022-03-17T16:36:00.696165",
     "status": "completed"
    },
    "tags": []
   },
   "outputs": [
    {
     "name": "stdout",
     "output_type": "stream",
     "text": [
      "Collecting spacy_langdetect\r\n",
      "  Downloading spacy_langdetect-0.1.2-py3-none-any.whl (5.0 kB)\r\n",
      "Collecting langdetect==1.0.7\r\n",
      "  Downloading langdetect-1.0.7.zip (998 kB)\r\n",
      "     |████████████████████████████████| 998 kB 708 kB/s            \r\n",
      "\u001b[?25h  Preparing metadata (setup.py) ... \u001b[?25l-\b \bdone\r\n",
      "\u001b[?25hRequirement already satisfied: pytest in /opt/conda/lib/python3.7/site-packages (from spacy_langdetect) (6.2.5)\r\n",
      "Requirement already satisfied: six in /opt/conda/lib/python3.7/site-packages (from langdetect==1.0.7->spacy_langdetect) (1.16.0)\r\n",
      "Requirement already satisfied: attrs>=19.2.0 in /opt/conda/lib/python3.7/site-packages (from pytest->spacy_langdetect) (21.2.0)\r\n",
      "Requirement already satisfied: pluggy<2.0,>=0.12 in /opt/conda/lib/python3.7/site-packages (from pytest->spacy_langdetect) (1.0.0)\r\n",
      "Requirement already satisfied: importlib-metadata>=0.12 in /opt/conda/lib/python3.7/site-packages (from pytest->spacy_langdetect) (4.8.2)\r\n",
      "Requirement already satisfied: py>=1.8.2 in /opt/conda/lib/python3.7/site-packages (from pytest->spacy_langdetect) (1.11.0)\r\n",
      "Requirement already satisfied: toml in /opt/conda/lib/python3.7/site-packages (from pytest->spacy_langdetect) (0.10.2)\r\n",
      "Requirement already satisfied: iniconfig in /opt/conda/lib/python3.7/site-packages (from pytest->spacy_langdetect) (1.1.1)\r\n",
      "Requirement already satisfied: packaging in /opt/conda/lib/python3.7/site-packages (from pytest->spacy_langdetect) (21.0)\r\n",
      "Requirement already satisfied: typing-extensions>=3.6.4 in /opt/conda/lib/python3.7/site-packages (from importlib-metadata>=0.12->pytest->spacy_langdetect) (3.10.0.2)\r\n",
      "Requirement already satisfied: zipp>=0.5 in /opt/conda/lib/python3.7/site-packages (from importlib-metadata>=0.12->pytest->spacy_langdetect) (3.6.0)\r\n",
      "Requirement already satisfied: pyparsing>=2.0.2 in /opt/conda/lib/python3.7/site-packages (from packaging->pytest->spacy_langdetect) (3.0.6)\r\n",
      "Building wheels for collected packages: langdetect\r\n",
      "  Building wheel for langdetect (setup.py) ... \u001b[?25l-\b \b\\\b \b|\b \b/\b \b-\b \bdone\r\n",
      "\u001b[?25h  Created wheel for langdetect: filename=langdetect-1.0.7-py3-none-any.whl size=993430 sha256=a48ff622c0973dd7a27c37a72d077efe422fcd3dafaf01afab0b22d34c5c26bb\r\n",
      "  Stored in directory: /root/.cache/pip/wheels/89/79/3b/9885ae7f4308f73c514f96d8574d40d7d8173a27731b674013\r\n",
      "Successfully built langdetect\r\n",
      "Installing collected packages: langdetect, spacy-langdetect\r\n",
      "Successfully installed langdetect-1.0.7 spacy-langdetect-0.1.2\r\n",
      "\u001b[33mWARNING: Running pip as the 'root' user can result in broken permissions and conflicting behaviour with the system package manager. It is recommended to use a virtual environment instead: https://pip.pypa.io/warnings/venv\u001b[0m\r\n",
      "Note: you may need to restart the kernel to use updated packages.\n"
     ]
    }
   ],
   "source": [
    "pip install spacy_langdetect"
   ]
  },
  {
   "cell_type": "code",
   "execution_count": 15,
   "id": "05842046",
   "metadata": {
    "execution": {
     "iopub.execute_input": "2022-03-17T16:36:16.163927Z",
     "iopub.status.busy": "2022-03-17T16:36:16.163114Z",
     "iopub.status.idle": "2022-03-17T16:36:16.198904Z",
     "shell.execute_reply": "2022-03-17T16:36:16.198287Z",
     "shell.execute_reply.started": "2022-03-17T14:26:16.248886Z"
    },
    "papermill": {
     "duration": 0.255285,
     "end_time": "2022-03-17T16:36:16.199101",
     "exception": false,
     "start_time": "2022-03-17T16:36:15.943816",
     "status": "completed"
    },
    "tags": []
   },
   "outputs": [],
   "source": [
    "import spacy\n",
    "from spacy.lang.en import English\n",
    "from spacy.pipeline import EntityRuler\n",
    "import json\n",
    "from spacy_langdetect import LanguageDetector\n",
    "from spacy.language import Language"
   ]
  },
  {
   "cell_type": "code",
   "execution_count": 16,
   "id": "c5324d93",
   "metadata": {
    "execution": {
     "iopub.execute_input": "2022-03-17T16:36:16.621089Z",
     "iopub.status.busy": "2022-03-17T16:36:16.620408Z",
     "iopub.status.idle": "2022-03-17T16:36:16.625393Z",
     "shell.execute_reply": "2022-03-17T16:36:16.626017Z",
     "shell.execute_reply.started": "2022-03-17T14:29:30.997745Z"
    },
    "papermill": {
     "duration": 0.214689,
     "end_time": "2022-03-17T16:36:16.626212",
     "exception": false,
     "start_time": "2022-03-17T16:36:16.411523",
     "status": "completed"
    },
    "tags": []
   },
   "outputs": [],
   "source": [
    "def open_data(name):\n",
    "  with open(name,'r') as f:\n",
    "    data =  json.load(f)\n",
    "  return data"
   ]
  },
  {
   "cell_type": "code",
   "execution_count": 17,
   "id": "ae532942",
   "metadata": {
    "execution": {
     "iopub.execute_input": "2022-03-17T16:36:17.055745Z",
     "iopub.status.busy": "2022-03-17T16:36:17.051914Z",
     "iopub.status.idle": "2022-03-17T16:36:17.058120Z",
     "shell.execute_reply": "2022-03-17T16:36:17.058730Z",
     "shell.execute_reply.started": "2022-03-17T14:29:32.742999Z"
    },
    "papermill": {
     "duration": 0.215667,
     "end_time": "2022-03-17T16:36:17.058929",
     "exception": false,
     "start_time": "2022-03-17T16:36:16.843262",
     "status": "completed"
    },
    "tags": []
   },
   "outputs": [],
   "source": [
    "def create_training_data(data):\n",
    "  patternss = []\n",
    "  for label in data: \n",
    "    for item in data[label]:\n",
    "        pattern = {\n",
    "                    \"label\": label,\n",
    "                    \"pattern\": item\n",
    "                    }\n",
    "        patternss.append(pattern)\n",
    "\n",
    "        pattern2 = {\n",
    "                    \"label\": label,\n",
    "                    \"pattern\": item.lower()\n",
    "                    }\n",
    "        \n",
    "        patternss.append(pattern2)\n",
    "  return (patternss)"
   ]
  },
  {
   "cell_type": "code",
   "execution_count": 18,
   "id": "43392e5b",
   "metadata": {
    "execution": {
     "iopub.execute_input": "2022-03-17T16:36:17.475746Z",
     "iopub.status.busy": "2022-03-17T16:36:17.474915Z",
     "iopub.status.idle": "2022-03-17T16:36:17.479384Z",
     "shell.execute_reply": "2022-03-17T16:36:17.480017Z",
     "shell.execute_reply.started": "2022-03-17T16:23:14.742329Z"
    },
    "papermill": {
     "duration": 0.212476,
     "end_time": "2022-03-17T16:36:17.480246",
     "exception": false,
     "start_time": "2022-03-17T16:36:17.267770",
     "status": "completed"
    },
    "tags": []
   },
   "outputs": [],
   "source": [
    "def generate_model(patterns):\n",
    "  nlp = English()\n",
    "  ruler = nlp.add_pipe(\"entity_ruler\")\n",
    "  ruler.add_patterns(pattern)\n",
    "  nlp.to_disk(\"visit_egypt\")\n",
    "  return nlp"
   ]
  },
  {
   "cell_type": "code",
   "execution_count": 19,
   "id": "e6c0f430",
   "metadata": {
    "execution": {
     "iopub.execute_input": "2022-03-17T16:36:17.918939Z",
     "iopub.status.busy": "2022-03-17T16:36:17.918155Z",
     "iopub.status.idle": "2022-03-17T16:36:17.921989Z",
     "shell.execute_reply": "2022-03-17T16:36:17.922516Z",
     "shell.execute_reply.started": "2022-03-17T16:23:15.682356Z"
    },
    "papermill": {
     "duration": 0.223502,
     "end_time": "2022-03-17T16:36:17.922741",
     "exception": false,
     "start_time": "2022-03-17T16:36:17.699239",
     "status": "completed"
    },
    "tags": []
   },
   "outputs": [],
   "source": [
    "def  test_model(model,text):\n",
    "  doc = model(text)\n",
    "  result = []\n",
    "  for ent in doc.ents:\n",
    "     result.append({\"Name\": ent.text , \"Label\": ent.label_})\n",
    "  return result"
   ]
  },
  {
   "cell_type": "code",
   "execution_count": 20,
   "id": "22e14d53",
   "metadata": {
    "execution": {
     "iopub.execute_input": "2022-03-17T16:36:18.359366Z",
     "iopub.status.busy": "2022-03-17T16:36:18.358552Z",
     "iopub.status.idle": "2022-03-17T16:36:18.372559Z",
     "shell.execute_reply": "2022-03-17T16:36:18.373273Z",
     "shell.execute_reply.started": "2022-03-17T16:23:18.216049Z"
    },
    "papermill": {
     "duration": 0.229153,
     "end_time": "2022-03-17T16:36:18.373499",
     "exception": false,
     "start_time": "2022-03-17T16:36:18.144346",
     "status": "completed"
    },
    "tags": []
   },
   "outputs": [],
   "source": [
    "data =  open_data('../input/datajson/data_space.json')"
   ]
  },
  {
   "cell_type": "code",
   "execution_count": 21,
   "id": "2e340f76",
   "metadata": {
    "execution": {
     "iopub.execute_input": "2022-03-17T16:36:18.802313Z",
     "iopub.status.busy": "2022-03-17T16:36:18.801632Z",
     "iopub.status.idle": "2022-03-17T16:36:18.808677Z",
     "shell.execute_reply": "2022-03-17T16:36:18.809228Z",
     "shell.execute_reply.started": "2022-03-17T16:23:19.011086Z"
    },
    "papermill": {
     "duration": 0.222391,
     "end_time": "2022-03-17T16:36:18.809432",
     "exception": false,
     "start_time": "2022-03-17T16:36:18.587041",
     "status": "completed"
    },
    "tags": []
   },
   "outputs": [],
   "source": [
    "pattern =  create_training_data(data)"
   ]
  },
  {
   "cell_type": "code",
   "execution_count": 22,
   "id": "65cf92a1",
   "metadata": {
    "execution": {
     "iopub.execute_input": "2022-03-17T16:36:19.231783Z",
     "iopub.status.busy": "2022-03-17T16:36:19.230859Z",
     "iopub.status.idle": "2022-03-17T16:36:21.222355Z",
     "shell.execute_reply": "2022-03-17T16:36:21.222930Z",
     "shell.execute_reply.started": "2022-03-17T16:23:29.978978Z"
    },
    "papermill": {
     "duration": 2.208488,
     "end_time": "2022-03-17T16:36:21.223123",
     "exception": false,
     "start_time": "2022-03-17T16:36:19.014635",
     "status": "completed"
    },
    "tags": []
   },
   "outputs": [],
   "source": [
    "model  = generate_model(pattern)"
   ]
  },
  {
   "cell_type": "code",
   "execution_count": 23,
   "id": "1269178c",
   "metadata": {
    "execution": {
     "iopub.execute_input": "2022-03-17T16:36:21.637942Z",
     "iopub.status.busy": "2022-03-17T16:36:21.636992Z",
     "iopub.status.idle": "2022-03-17T16:36:23.954043Z",
     "shell.execute_reply": "2022-03-17T16:36:23.953384Z",
     "shell.execute_reply.started": "2022-03-17T16:24:02.528899Z"
    },
    "papermill": {
     "duration": 2.528871,
     "end_time": "2022-03-17T16:36:23.954235",
     "exception": false,
     "start_time": "2022-03-17T16:36:21.425364",
     "status": "completed"
    },
    "tags": []
   },
   "outputs": [],
   "source": [
    "model_entity = spacy.load('./visit_egypt')\n"
   ]
  },
  {
   "cell_type": "code",
   "execution_count": 24,
   "id": "e25194ae",
   "metadata": {
    "execution": {
     "iopub.execute_input": "2022-03-17T16:36:24.364488Z",
     "iopub.status.busy": "2022-03-17T16:36:24.363454Z",
     "iopub.status.idle": "2022-03-17T16:36:24.374890Z",
     "shell.execute_reply": "2022-03-17T16:36:24.375567Z",
     "shell.execute_reply.started": "2022-03-17T16:24:07.607098Z"
    },
    "papermill": {
     "duration": 0.219158,
     "end_time": "2022-03-17T16:36:24.375778",
     "exception": false,
     "start_time": "2022-03-17T16:36:24.156620",
     "status": "completed"
    },
    "tags": []
   },
   "outputs": [
    {
     "data": {
      "text/plain": [
       "[{'Name': 'Ramesses', 'Label': 'names'}]"
      ]
     },
     "execution_count": 24,
     "metadata": {},
     "output_type": "execute_result"
    }
   ],
   "source": [
    "result = test_model(model_entity,'what do you know about Ramesses')\n",
    "result"
   ]
  },
  {
   "cell_type": "markdown",
   "id": "b73bfdda",
   "metadata": {
    "papermill": {
     "duration": 0.201891,
     "end_time": "2022-03-17T16:36:24.783680",
     "exception": false,
     "start_time": "2022-03-17T16:36:24.581789",
     "status": "completed"
    },
    "tags": []
   },
   "source": [
    "## Test"
   ]
  },
  {
   "cell_type": "code",
   "execution_count": 25,
   "id": "6efa0c49",
   "metadata": {
    "execution": {
     "iopub.execute_input": "2022-03-17T16:36:25.198670Z",
     "iopub.status.busy": "2022-03-17T16:36:25.197660Z",
     "iopub.status.idle": "2022-03-17T16:36:25.210028Z",
     "shell.execute_reply": "2022-03-17T16:36:25.210557Z",
     "shell.execute_reply.started": "2022-03-17T12:09:19.830775Z"
    },
    "papermill": {
     "duration": 0.22034,
     "end_time": "2022-03-17T16:36:25.210757",
     "exception": false,
     "start_time": "2022-03-17T16:36:24.990417",
     "status": "completed"
    },
    "tags": []
   },
   "outputs": [],
   "source": [
    "def bag_of_words(s, words):\n",
    "    bag = [0 for _ in range(len(words))]\n",
    "\n",
    "    s_words = nltk.word_tokenize(s)\n",
    "    s_words = [stemmer.stem(word.lower()) for word in s_words]\n",
    "\n",
    "    for se in s_words:\n",
    "        for i, w in enumerate(words):\n",
    "            if w == se:\n",
    "                bag[i] = 1\n",
    "    return np.array(bag)\n",
    "\n",
    "\n",
    "\n",
    "def net(word) :\n",
    "     sentence = []\n",
    "     for ent in nlp(word).ents:\n",
    "        sentence.append({\"Name\": ent.text , \"Label\": ent.label_})\n",
    "     return sentence\n",
    "\n",
    "\n",
    "def chat():\n",
    "    print(\"Start talking with the bot (type quit to stop)!\")\n",
    "    while True:\n",
    "        inp = input(\"You: \")\n",
    "        if inp.lower() == \"quit\":\n",
    "            break\n",
    "        \n",
    "        x =  bag_of_words(inp, words)\n",
    "        y =  net(inp) \n",
    "        results = model.predict(np.array([x]))\n",
    "        results_index = np.argmax(results)\n",
    "        tag = labels[results_index]\n",
    "        if tag == \"date\":\n",
    "               time()\n",
    "        else:\n",
    "         print(tag,results_index)\n",
    "         for tg in data[\"intents\"]:\n",
    "                \n",
    "            if tg['tag'] == tag:\n",
    "                responses = tg['responses']\n",
    "\n",
    "         print(random.choice(responses))"
   ]
  },
  {
   "cell_type": "code",
   "execution_count": 26,
   "id": "3803ab67",
   "metadata": {
    "_kg_hide-input": false,
    "_kg_hide-output": false,
    "execution": {
     "iopub.execute_input": "2022-03-17T16:36:25.647043Z",
     "iopub.status.busy": "2022-03-17T16:36:25.646052Z",
     "iopub.status.idle": "2022-03-17T16:36:25.650105Z",
     "shell.execute_reply": "2022-03-17T16:36:25.650731Z",
     "shell.execute_reply.started": "2022-03-17T12:09:19.833009Z"
    },
    "papermill": {
     "duration": 0.209503,
     "end_time": "2022-03-17T16:36:25.650951",
     "exception": false,
     "start_time": "2022-03-17T16:36:25.441448",
     "status": "completed"
    },
    "tags": []
   },
   "outputs": [],
   "source": [
    "#chat()"
   ]
  },
  {
   "cell_type": "code",
   "execution_count": null,
   "id": "a8745445",
   "metadata": {
    "papermill": {
     "duration": 0.202247,
     "end_time": "2022-03-17T16:36:26.055917",
     "exception": false,
     "start_time": "2022-03-17T16:36:25.853670",
     "status": "completed"
    },
    "tags": []
   },
   "outputs": [],
   "source": []
  }
 ],
 "metadata": {
  "kernelspec": {
   "display_name": "Python 3",
   "language": "python",
   "name": "python3"
  },
  "language_info": {
   "codemirror_mode": {
    "name": "ipython",
    "version": 3
   },
   "file_extension": ".py",
   "mimetype": "text/x-python",
   "name": "python",
   "nbconvert_exporter": "python",
   "pygments_lexer": "ipython3",
   "version": "3.7.12"
  },
  "papermill": {
   "default_parameters": {},
   "duration": 56.876886,
   "end_time": "2022-03-17T16:36:29.190415",
   "environment_variables": {},
   "exception": null,
   "input_path": "__notebook__.ipynb",
   "output_path": "__notebook__.ipynb",
   "parameters": {},
   "start_time": "2022-03-17T16:35:32.313529",
   "version": "2.3.3"
  }
 },
 "nbformat": 4,
 "nbformat_minor": 5
}
